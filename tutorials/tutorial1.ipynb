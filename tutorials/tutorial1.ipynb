{
 "cells": [
  {
   "cell_type": "markdown",
   "metadata": {},
   "source": [
    "# Table of Contents\n",
    "\n",
    "* [Introduction](#introduction)\n",
    "* [Imports and Functions](#chapter1)\n",
    "* [Creating the Data](#chapter2)\n",
    "* [The Design Matrix](#chapter3)\n",
    "    * [Section 3.1](#section_3_1)\n",
    "* [The Tomographer Object](#chapter4)\n",
    "    * [Section 4.1](#section_4_1)\n",
    "* [Analyzing Output](#chapter5)\n",
    "    * [Section 5.1](#section_5_1)"
   ]
  },
  {
   "cell_type": "markdown",
   "metadata": {},
   "source": [
    "# Introduction <a class=\"anchor\" id=\"introduction\"></a>"
   ]
  },
  {
   "cell_type": "markdown",
   "metadata": {},
   "source": [
    "In this tutorial we will use a toy example to illustrate how to use the Tomographer functionalities. We will create from scratch the data for this toy example, which will simply be two Gaussian distributions in the two dimensional image space. The goal will be to reconstruct the two distributions after artificially sectioning them (similar to the procedure that would be undertaken for real slices of tissue).\n",
    "\n",
    "We will begin by importing the necessary files and functions. \n",
    "\n",
    "Next, data for the toy example will be created.\n",
    "\n",
    "The design matrix is a fundamental aspect of Tomographer, and it's usage will be illustrated with an example. This will be followed by use of the Tomographer object. Inputs to the class instance will be described. Output reconstructions will be visualized.\n",
    "\n",
    "The tutorial will end with a brief overview of some multivariable analysis that one can do with the output data. For this section of the tutorial however, real output reconstructions are used from Pogona vitticeps."
   ]
  },
  {
   "cell_type": "markdown",
   "metadata": {},
   "source": [
    "# Imports & Functions <a class=\"anchor\" id=\"chapter1\"></a>"
   ]
  },
  {
   "cell_type": "code",
   "execution_count": 1,
   "metadata": {},
   "outputs": [],
   "source": [
    "%matplotlib inline\n",
    "import os\n",
    "os.environ[\"MKL_NUM_THREADS\"] = \"4\" \n",
    "os.environ[\"NUMEXPR_NUM_THREADS\"] = \"4\" \n",
    "os.environ[\"OMP_NUM_THREADS\"] = \"4\" \n",
    "\n",
    "# Imports\n",
    "import numpy as np\n",
    "import pandas as pd\n",
    "import h5py\n",
    "import re\n",
    "import os\n",
    "import matplotlib\n",
    "import matplotlib.pyplot as plt\n",
    "import operator\n",
    "import seaborn as sns\n",
    "from matplotlib.colors import ListedColormap\n",
    "matplotlib.rcParams['pdf.fonttype'] = 42\n",
    "\n",
    "\n",
    "# Tomography\n",
    "import tomography\n",
    "from tomography.utils import pad_to_cube, pad_to_square, shift_simmetrize\n",
    "from brainmap import *\n",
    "\n",
    "# Clustering\n",
    "import community\n",
    "import networkx as nx\n",
    "\n",
    "# Sklearn, scipy\n",
    "from skimage.draw import circle\n",
    "from scipy.stats import multivariate_normal\n",
    "from scipy.optimize import minimize, Bounds\n",
    "from sklearn.preprocessing import StandardScaler\n",
    "from sklearn.decomposition import PCA, FactorAnalysis, NMF, non_negative_factorization\n",
    "from scipy.stats import ttest_ind\n",
    "from random import sample\n",
    "import scipy.ndimage as sc\n",
    "import seaborn as sns\n",
    "import scipy.spatial as sp, scipy.cluster.hierarchy as hc\n",
    "import umap\n",
    "from skimage import exposure\n",
    "from sklearn.svm import SVR\n",
    "from sklearn.neighbors import NearestNeighbors\n",
    "from sklearn.cluster import DBSCAN, KMeans, SpectralClustering, AgglomerativeClustering, ward_tree\n",
    "from sklearn.mixture import GaussianMixture\n",
    "from sklearn.manifold import TSNE\n",
    "from skimage.measure import find_contours\n",
    "from scipy.cluster.hierarchy import linkage, to_tree, dendrogram, fcluster\n",
    "from skimage.morphology import convex_hull_image\n",
    "from scipy.spatial.distance import pdist, squareform\n",
    "from data_loaders import *\n",
    "\n",
    "# other libraries\n",
    "from collections import defaultdict\n",
    "from sklearn.mixture import GaussianMixture\n",
    "from scipy.stats import chi2\n",
    "\n",
    "\n",
    "np.random.seed(11)"
   ]
  },
  {
   "cell_type": "code",
   "execution_count": 2,
   "metadata": {},
   "outputs": [],
   "source": [
    "# The following functions are required to create data for simulations. \n",
    "# The function create_filename_data will use the data and section it as would be done\n",
    "# for creating strips of tissue (the secondary slices)\n",
    "\n",
    "def get_angle(angle_list):\n",
    "    \"\"\"angle_list: list containing designated angles at positions 5:\n",
    "    anglexxx\n",
    "    for example: ['angle89', 'angle100']\"\"\"\n",
    "    new_array = np.empty(0)\n",
    "    array = [np.append(new_array, int(x[5:])) for x in angle_list]\n",
    "    return np.array(array).flatten()\n",
    "\n",
    "\n",
    "def random_2_points(dist, accu=10, xc= 100, yc=100):\n",
    "    ang_dir = np.random.uniform(0, 2*np.pi)\n",
    "    deltay = accu * np.sin(ang_dir)\n",
    "    deltax = accu * np.cos(ang_dir)\n",
    "    mu1 = np.array([xc + deltax, yc + deltay ])\n",
    "\n",
    "    ang_dir = np.random.uniform(0, 2*np.pi)\n",
    "    deltay = dist * np.sin(ang_dir)\n",
    "    deltax = dist * np.cos(ang_dir)\n",
    "    mu2 = mu1 + np.array([deltax, deltay])\n",
    "    return mu1, mu2\n",
    "\n",
    "\n",
    "def generate_gaussians(mu1, mu2, sigma1, sigma2, level_express=1, shape=(200,200)):\n",
    "    X,Y = np.meshgrid(range(shape[0]), range(shape[1]))\n",
    "    pos = np.column_stack([X.flat[:], Y.flat[:]])\n",
    "    density = multivariate_normal.pdf(pos, mean=mu1, cov=sigma1) + multivariate_normal.pdf(pos, mean=mu2, cov=sigma2)\n",
    "    average_expression = level_express * density / np.max(density)\n",
    "    return (average_expression).reshape(shape)\n",
    "\n",
    "def create_filename_data(file_path, angles_names, angles_values, var, factor, mask, width, error=True):\n",
    "    \"\"\"Creates h5py file with data. Noise is added automatically unless argument error=False\n",
    "    \n",
    "    Args:\n",
    "    \n",
    "    file_path: string path to .h5py\n",
    "    angles_names: list of angle names in format anglexxx\n",
    "    angles_values: integer values of angle names\n",
    "    var: dictionary containing gene_list and attributes\n",
    "    factor: amount of noise (poisson) to add\n",
    "    error: if True, adds error, else data is taken as given\"\"\"\n",
    "    \n",
    "    if os.path.isfile(file_path):\n",
    "        !rm $file_path\n",
    "    \n",
    "    fout = h5py.File(file_path, 'w')\n",
    "    D, proj_len = tomography.core.build_Design_Matrix(angles_values,\n",
    "                                                  [width,]*len(angles_names),\n",
    "                                                  mask,\n",
    "                                                  0.1,\n",
    "                                                  notation_inverse=True,\n",
    "                                                  return_projlen=True)\n",
    "    profiles = []\n",
    "    for g_name, g_ in var.items():\n",
    "        b_ = D.dot((g_.data*mask).flat[:])\n",
    "        cum_proj_len = np.hstack([[0], proj_len]).cumsum()\n",
    "        for i, name in enumerate(angles_names):\n",
    "            if error:\n",
    "                tmp = np.random.poisson(b_[cum_proj_len[i]:cum_proj_len[i+1]] / \n",
    "                                        np.mean(b_[cum_proj_len[i]:cum_proj_len[i+1]]) * factor, size=None)\n",
    "                \n",
    "                \n",
    "            else:\n",
    "                tmp = b_[cum_proj_len[i]:cum_proj_len[i+1]]\n",
    "            fout.create_dataset(\"genes/%s/%s\" % (g_name, name), data=tmp)\n",
    "            profiles.append(tmp)\n",
    "    for i, name in enumerate(angles_names):\n",
    "        fout.create_dataset(\"coordinates/%s\" % name, data=np.arange(proj_len[i]))\n",
    "    \n",
    "    fout.close()\n",
    "    return profiles\n",
    "\n"
   ]
  },
  {
   "cell_type": "markdown",
   "metadata": {},
   "source": [
    "# Creating the Data <a class=\"anchor\" id=\"chapter2\"></a>"
   ]
  },
  {
   "cell_type": "markdown",
   "metadata": {},
   "source": [
    "We will begin by creating a mask of our toy tissue. The mask will be a simple circle in this case, binarized. The mask is a very important component of the Tomographer algorithm, as it is used to help create the design matrix (for more details, see Online methods of the paper).\n",
    "\n",
    "In real tissue, reference masks are grayscale images which can be for example taken as a brightfield microscopy images. This implies then that values are not binary!\n",
    "\n",
    "The reference mask is passed to the tomography object (which we will see later), and this is accompanied, importantly, by a threshold that is used to binarize the continuous grayscale image to create the mask. "
   ]
  },
  {
   "cell_type": "code",
   "execution_count": 3,
   "metadata": {},
   "outputs": [
    {
     "data": {
      "image/png": "[encoded data removed]",
      "text/plain": [
       "<Figure size 432x288 with 1 Axes>"
      ]
     },
     "metadata": {
      "needs_background": "light"
     },
     "output_type": "display_data"
    }
   ],
   "source": [
    "# Create mask\n",
    "mask = np.zeros((200, 200), dtype=np.uint8)\n",
    "rr, cc = circle(100, 100, 75)\n",
    "mask[rr, cc] = 1\n",
    "\n",
    "# find the contour of the mask\n",
    "cnts = find_contours(mask, 0.5)[0]\n",
    "\n",
    "# plot the mask\n",
    "plt.imshow(mask, cmap='gray')\n",
    "plt.axis('off')\n",
    "plt.show()"
   ]
  },
  {
   "cell_type": "markdown",
   "metadata": {},
   "source": [
    "Now we are going to generate our data! The data will be a set of images which contain two randomly distributed Gaussians that are separated by varying distances. These data are stored in a dictionary, `var`, whose keys are the distances between the two gaussians in the 2D image."
   ]
  },
  {
   "cell_type": "code",
   "execution_count": 4,
   "metadata": {},
   "outputs": [],
   "source": [
    "generated_data = defaultdict(dict)\n",
    "obj = type('namespace', (object,), {})\n",
    "var = dict()\n",
    "\n",
    "level_express = 20 # the expression level of the gaussian\n",
    "radius = 10 # the sigma value of the gaussian\n",
    "distances = np.linspace(3,20, 5)# np.linspace(3,20, 15)\n",
    "\n",
    "# loop over distances\n",
    "for d in distances:\n",
    "    mu1, mu2 = random_2_points(d, accu=10, xc= 100, yc=100)\n",
    "    Z = generate_gaussians(mu1, mu2, sigma1=radius, sigma2=radius, level_express=level_express, shape=(200,200))\n",
    "    generated_data[d] = Z\n",
    "    var[f'{d}'] = obj()\n",
    "    var[f'{d}'].data = Z\n",
    "\n"
   ]
  },
  {
   "cell_type": "markdown",
   "metadata": {},
   "source": [
    "Here is an example of a trial of distance 20. The white line demarcates the image mask that was created above."
   ]
  },
  {
   "cell_type": "code",
   "execution_count": 5,
   "metadata": {
    "scrolled": true
   },
   "outputs": [
    {
     "data": {
      "image/png": "[encoded data removed]",
      "text/plain": [
       "<Figure size 432x288 with 1 Axes>"
      ]
     },
     "metadata": {
      "needs_background": "light"
     },
     "output_type": "display_data"
    }
   ],
   "source": [
    "plt.imshow(var['20.0'].data)\n",
    "plt.axis('off')\n",
    "plt.plot(cnts[:,1], cnts[:,0], c='white')\n",
    "plt.show()"
   ]
  },
  {
   "cell_type": "markdown",
   "metadata": {},
   "source": [
    "We will now use this data to artifically cut secondary slices using the defined angle and width parameters"
   ]
  },
  {
   "cell_type": "code",
   "execution_count": 6,
   "metadata": {},
   "outputs": [],
   "source": [
    "angles_names = ['angle41', 'angle77', 'angle113', 'angle149', 'angle185']\n",
    "factor=20\n",
    "width=10\n",
    "first_points = np.zeros(len(angles_names))\n",
    "angles_values = np.deg2rad(get_angle(angles_names))"
   ]
  },
  {
   "cell_type": "code",
   "execution_count": 7,
   "metadata": {},
   "outputs": [],
   "source": [
    "np.random.seed(100)\n",
    "tmp0 = create_filename_data('resolution_testing_noise_tutorial.hdf5', angles_names, angles_values, var, factor, mask, width,error=False)\n"
   ]
  },
  {
   "cell_type": "markdown",
   "metadata": {},
   "source": [
    "# The Design Matrix <a class=\"anchor\" id=\"chapter3\"></a>"
   ]
  },
  {
   "cell_type": "markdown",
   "metadata": {},
   "source": [
    "To create the design matrix, one must know all the parameters that were used with respect to cutting of the primary slices to create secondary slices. This implies\n",
    "    * The angles that were used\n",
    "    * The width of the secondary slices\n",
    "    * The mask\n",
    "    * The threshold for the mask (since we are using a binary mask this is not relevant)\n",
    "    \n",
    "Multiplication of the design matrix by the image will return a projection of the signal across all angles (which are stacked together)"
   ]
  },
  {
   "cell_type": "code",
   "execution_count": 8,
   "metadata": {},
   "outputs": [],
   "source": [
    "D, proj_len = tomography.core.build_Design_Matrix(angles_values,\n",
    "                                                  [width,]*len(angles_names),\n",
    "                                                  mask,\n",
    "                                                  0.1,\n",
    "                                                  notation_inverse=True,\n",
    "                                                  return_projlen=True)"
   ]
  },
  {
   "cell_type": "markdown",
   "metadata": {},
   "source": [
    "We will quickly visualize how the dot product of the design matrix, D, and an image results in a projection vector. The `proj_len` variable which is the second output of the function describes how many secondary slice samples are in one angle. Hence, the cumulative sum of the `proj_len` variable will allow us to plot vertical lines where this delineation happens in the resultant vector of the dot product between D and the image."
   ]
  },
  {
   "cell_type": "code",
   "execution_count": 9,
   "metadata": {},
   "outputs": [
    {
     "data": {
      "image/png": "[encoded data removed]",
      "text/plain": [
       "<Figure size 648x360 with 1 Axes>"
      ]
     },
     "metadata": {
      "needs_background": "light"
     },
     "output_type": "display_data"
    }
   ],
   "source": [
    "fig = plt.figure(figsize=(9,5))\n",
    "\n",
    "cum_sum = np.cumsum(proj_len)\n",
    "for sum_ in cum_sum:\n",
    "    plt.vlines(sum_, 0, 1750, linestyles='--')\n",
    "    \n",
    "    \n",
    "plt.plot(np.dot(D, var['20.0'].data.flatten()), linewidth=3, c='royalblue')\n",
    "\n",
    "plt.ylabel('Intensity of expression across the secondary slice')\n",
    "plt.xlabel('Secondary slice samples across all angles')\n",
    "plt.show()\n"
   ]
  },
  {
   "cell_type": "markdown",
   "metadata": {},
   "source": [
    "# The Tomographer Object <a class=\"anchor\" id=\"chapter4\"></a>"
   ]
  },
  {
   "cell_type": "markdown",
   "metadata": {},
   "source": [
    "The Tomographer Object requires two essential inputs in order to perform a reconstruction:\n",
    "    - A configuration file which contains information to create a design matrix. Note that the design matrix will be created internally by the Tomographer() object when it is called.\n",
    "    - A data file which contains the measures projections which will be used to recreate the image in the two dimensional space"
   ]
  },
  {
   "cell_type": "code",
   "execution_count": 10,
   "metadata": {},
   "outputs": [
    {
     "name": "stderr",
     "output_type": "stream",
     "text": [
      "WARNING:root:gene_order dataset entry was not find in file.\n",
      " It might results in errors \n",
      "Filling with sorted(list(self.f[\"genes\"].keys()))\n"
     ]
    }
   ],
   "source": [
    "# create the configuration file\n",
    "rec_conf = tomography.ReconstructionConfig(angles_names=angles_names,\n",
    "                                           mask=mask,mask_thrs=0.1,\n",
    "                                           reference_mask=mask,\n",
    "                                           symmetry=False,\n",
    "                                           masked_formulation=True,\n",
    "                                           angles_values=angles_values,\n",
    "                                           first_points=first_points,\n",
    "                                           widths=[width,]*len(angles_names))\n",
    "\n",
    "\n",
    "# Setting up Tomographer\n",
    "tg = tomography.Tomographer() # initialize object\n",
    "tg.load_cfg(rec_conf) # load the config file\n",
    "tg.connect_data('resolution_testing_noise_tutorial.hdf5') # connect the hdf5 file with the projection data\n",
    "# mask_idx = np.argwhere(mask.flatten() == 1).squeeze()"
   ]
  },
  {
   "cell_type": "markdown",
   "metadata": {},
   "source": [
    "Once the Tomographer object is loaded with the configuration file and the projection data file, reconstructions can begin! Here we will store reconstructions in a dictionary, where keys are the distances that were set between the two Gaussian points in each instance.\n",
    "\n",
    "We ask Tomographer to select what it thinks is the best alpha / beta hyperparameter pair by setting the parameter `alpha_beta` to 'auto'. If one wants to insert a desired alpha / beta, one can do so by passing a tuple. The remainder of the arguments in `crossval_kwargs` are parameters used for the automatic grid search for the hyperparameter values."
   ]
  },
  {
   "cell_type": "code",
   "execution_count": 11,
   "metadata": {},
   "outputs": [
    {
     "name": "stdout",
     "output_type": "stream",
     "text": [
      "The set cost function is ignored! LCB acquisition does not make sense with cost.\n",
      "Distance:3.0\n",
      "The set cost function is ignored! LCB acquisition does not make sense with cost.\n",
      "Distance:7.25\n",
      "The set cost function is ignored! LCB acquisition does not make sense with cost.\n",
      "Distance:11.5\n",
      "The set cost function is ignored! LCB acquisition does not make sense with cost.\n",
      "Distance:15.75\n",
      "The set cost function is ignored! LCB acquisition does not make sense with cost.\n",
      "Distance:20.0\n"
     ]
    }
   ],
   "source": [
    "\n",
    "\n",
    "# Initialize a dictionary to store the reconstruction\n",
    "gaussian_reconstructions = {}\n",
    "\n",
    "\n",
    "# Begin reconstructions\n",
    "for i, d in enumerate(distances):\n",
    "\n",
    "    reconstruction = tg.reconstruct(f'{d}', alpha_beta='auto', crossval_kwargs={'domain': [(0,4), (0.05,8)],\n",
    "                                                            'logged_grid':False, \n",
    "                                                            'extra_evals': 7,\n",
    "                                                            'style' : 'grid',\n",
    "                                                            'gradient_iter' : 5,\n",
    "                                                            'initial_grid_n': 5})\n",
    "    print(f'Distance:{d}')\n",
    "    gaussian_reconstructions[d] = reconstruction\n"
   ]
  },
  {
   "cell_type": "markdown",
   "metadata": {},
   "source": [
    "# Analyzing Output <a class=\"anchor\" id=\"chapter5\"></a>"
   ]
  },
  {
   "cell_type": "code",
   "execution_count": 17,
   "metadata": {},
   "outputs": [],
   "source": [
    "v_key = list(var.keys())"
   ]
  },
  {
   "cell_type": "code",
   "execution_count": 39,
   "metadata": {},
   "outputs": [
    {
     "data": {
      "image/png": "[encoded data removed]",
      "text/plain": [
       "<Figure size 360x720 with 10 Axes>"
      ]
     },
     "metadata": {},
     "output_type": "display_data"
    }
   ],
   "source": [
    "fig = plt.figure(figsize=(5,10))\n",
    "gs = plt.GridSpec(len(distances), 2)\n",
    "\n",
    "for i, d in enumerate(distances):\n",
    "    \n",
    "    reconstruction = gaussian_reconstructions[d]\n",
    "    ground_truth = var[v_key[i]].data\n",
    "    \n",
    "    \n",
    "    ax = plt.subplot(gs[i * 2])\n",
    "    ax1 = plt.subplot(gs[i * 2 + 1])\n",
    "    \n",
    "    ax.set_xticks([])\n",
    "    ax.set_yticks([])\n",
    "    ax1.set_xticks([])\n",
    "    ax1.set_yticks([])\n",
    "    \n",
    "    \n",
    "    ax.imshow(reconstruction, vmax=10)\n",
    "    ax1.imshow(ground_truth)\n",
    "    \n",
    "    ax.set_ylabel(str(d)[:5])\n",
    "    if i == 0:\n",
    "        ax.set_title('Reconstruction')\n",
    "        ax1.set_title('Ground Truth')"
   ]
  },
  {
   "cell_type": "markdown",
   "metadata": {},
   "source": [
    "Instead of comparing the images of the reconstruction to the ground truth, we can also compare projection values which were used to fit the model. This might also give us some hints about why the reconstruction may not as been as good as we had hoped."
   ]
  },
  {
   "cell_type": "code",
   "execution_count": 46,
   "metadata": {},
   "outputs": [
    {
     "data": {
      "image/png": "[encoded data removed]",
      "text/plain": [
       "<Figure size 648x360 with 1 Axes>"
      ]
     },
     "metadata": {
      "needs_background": "light"
     },
     "output_type": "display_data"
    }
   ],
   "source": [
    "fig = plt.figure(figsize=(9,5))\n",
    "\n",
    "cum_sum = np.cumsum(proj_len)\n",
    "for sum_ in cum_sum:\n",
    "    plt.vlines(sum_, 0, 8, linestyles='--')\n",
    "    \n",
    "    \n",
    "true_profile = np.dot(D, var['11.5'].data.flatten())\n",
    "predicted_profile = np.dot(D, gaussian_reconstructions[11.5].flatten())\n",
    "    \n",
    "plt.plot(np.log1p(true_profile), linewidth=3, c='royalblue', alpha=0.5, label='Ground Truth')\n",
    "plt.plot(np.log1p(predicted_profile), linewidth=3, c='crimson', alpha=0.5, label='Prediction')\n",
    "\n",
    "plt.ylabel('Intensity of expression across the secondary slice (log)')\n",
    "plt.xlabel('Secondary slice samples across all angles')\n",
    "plt.legend()\n",
    "plt.show()\n"
   ]
  }
 ],
 "metadata": {
  "kernelspec": {
   "display_name": "Python 3",
   "language": "python",
   "name": "python3"
  },
  "language_info": {
   "codemirror_mode": {
    "name": "ipython",
    "version": 3
   },
   "file_extension": ".py",
   "mimetype": "text/x-python",
   "name": "python",
   "nbconvert_exporter": "python",
   "pygments_lexer": "ipython3",
   "version": "3.6.10"
  }
 },
 "nbformat": 4,
 "nbformat_minor": 2
}
